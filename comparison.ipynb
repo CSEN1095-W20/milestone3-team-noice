{
 "cells": [
  {
   "cell_type": "markdown",
   "metadata": {},
   "source": [
    "### import the required libraries"
   ]
  },
  {
   "cell_type": "code",
   "execution_count": 132,
   "metadata": {},
   "outputs": [],
   "source": [
    "import matplotlib.pyplot as plt\n",
    "import pandas as pd\n",
    "import numpy as np"
   ]
  },
  {
   "cell_type": "markdown",
   "metadata": {},
   "source": [
    "### Read the 4 day files for both countries Finland and Togo and concatinate each country in one dataframe"
   ]
  },
  {
   "cell_type": "code",
   "execution_count": 133,
   "metadata": {},
   "outputs": [],
   "source": [
    "finland_10_01 = pd.read_csv(\"Finland 10-01\")\n",
    "finland_11_01 = pd.read_csv(\"Finland 11-01\")\n",
    "finland_12_01 = pd.read_csv(\"Finland 12-01\")\n",
    "finland_13_01 = pd.read_csv(\"Finland 13-01\")\n",
    "finland_df = pd.concat([finland_10_01 , finland_11_01 , finland_12_01 , finland_13_01])\n",
    "togo_10_01 = pd.read_csv(\"Togo 10-01\")\n",
    "togo_11_01 = pd.read_csv(\"Togo 11-01\")\n",
    "togo_12_01 = pd.read_csv(\"Togo 12-01\")\n",
    "togo_13_01 = pd.read_csv(\"Togo 13-01\")\n",
    "togo_df = pd.concat([togo_10_01 , togo_11_01 , togo_12_01 , togo_13_01])"
   ]
  },
  {
   "cell_type": "markdown",
   "metadata": {},
   "source": [
    "### get lists of the score of he sentiment analysis for the tweets of the two countries over the four days"
   ]
  },
  {
   "cell_type": "code",
   "execution_count": 134,
   "metadata": {},
   "outputs": [],
   "source": [
    "finland_list = finland_df['sentiment analysis']\n",
    "togo_list = togo_df['sentiment analysis']"
   ]
  },
  {
   "cell_type": "markdown",
   "metadata": {},
   "source": [
    "### From World Happiness Report data over years from 2015 to 2019 get te average happiness score for both countries"
   ]
  },
  {
   "cell_type": "code",
   "execution_count": 135,
   "metadata": {},
   "outputs": [],
   "source": [
    "df_2015_2019 = pd.read_csv(\"finalDfe.csv\")\n",
    "df_2015_2019 = df_2015_2019.loc[(df_2015_2019['Country'] == \"Finland\") | (df_2015_2019['Country'] == \"Togo\")]\n",
    "df_2015_2019 = df_2015_2019[['Country', 'Happiness Score']]\n",
    "df_2015_2019 = df_2015_2019.dropna()"
   ]
  },
  {
   "cell_type": "code",
   "execution_count": 136,
   "metadata": {},
   "outputs": [],
   "source": [
    "grouped_df = df_2015_2019.groupby(\"Country\")\n",
    "mean_df = grouped_df.mean()"
   ]
  },
  {
   "cell_type": "code",
   "execution_count": 137,
   "metadata": {},
   "outputs": [],
   "source": [
    "togoValues = togo_list.values.tolist()\n",
    "togoValues.append(mean_df.iloc[1]['Happiness Score'])\n",
    "\n",
    "finlandValues = finland_list.values.tolist()\n",
    "finlandValues.append(mean_df.iloc[0]['Happiness Score'])"
   ]
  },
  {
   "cell_type": "markdown",
   "metadata": {},
   "source": [
    "### Using the bar chart graph to visually compare the results we got from the World Happiness Report dataset and the result from the analysis processes"
   ]
  },
  {
   "cell_type": "code",
   "execution_count": 138,
   "metadata": {},
   "outputs": [
    {
     "data": {
      "text/plain": [
       "<matplotlib.legend.Legend at 0x21f3d7cc1c0>"
      ]
     },
     "execution_count": 138,
     "metadata": {},
     "output_type": "execute_result"
    },
    {
     "data": {
      "image/png": "[encoded data removed]",
      "text/plain": [
       "<Figure size 432x288 with 1 Axes>"
      ]
     },
     "metadata": {
      "needs_background": "light"
     },
     "output_type": "display_data"
    }
   ],
   "source": [
    "fig_4, axs_5 = plt.subplots(1,1)\n",
    "axs_5.set_xlabel('Date')\n",
    "axs_5.set_ylabel('Happiness Score')\n",
    "temp_x =np.arange(len(togoValues))\n",
    "axs_5.bar(np.arange(len(togoValues)),togoValues,width=0.2,label=\"Togo\")#draw the male bar graph\n",
    "axs_5.bar(temp_x+0.2,finlandValues,width=0.2,label=\"Finland\")#draw the female bar graph 0.2 away from the male\n",
    "plt.xticks(temp_x+0.2, [f\"Day-{i+1}\" for i in range(4)] + [\"2015-2019\"])#create the labels of the x axis (Class-1, Class-2, Class-3)\n",
    "# plt.xticks(temp_x+0.2, [\"Day\" , \"00000\",\"m\" , \"l\" , \"p\" ])\n",
    "plt.setp(axs_5.get_xticklabels(),rotation=30,ha=\"right\")#rotate the labels on the x axis by 30 degrees to the right\n",
    "axs_5.legend(loc=2)"
   ]
  }
 ],
 "metadata": {
  "kernelspec": {
   "display_name": "Python 3",
   "language": "python",
   "name": "python3"
  },
  "language_info": {
   "codemirror_mode": {
    "name": "ipython",
    "version": 3
   },
   "file_extension": ".py",
   "mimetype": "text/x-python",
   "name": "python",
   "nbconvert_exporter": "python",
   "pygments_lexer": "ipython3",
   "version": "3.9.0"
  }
 },
 "nbformat": 4,
 "nbformat_minor": 4
}
